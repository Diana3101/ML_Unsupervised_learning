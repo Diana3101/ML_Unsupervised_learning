{
 "cells": [
  {
   "cell_type": "markdown",
   "metadata": {
    "colab_type": "text",
    "id": "A99xYq03Pev6"
   },
   "source": [
    "# K-Means Clustering\n",
    "\n",
    "Welcome to your next lab! In this assignment you will solve problem of clustering examples from given dataset using K-Means algorithm.\n",
    "\n",
    "**You will learn to:**\n",
    "- Build the general architecture of a learning algorithm:\n",
    "    - KMeans Class\n",
    "        - Initializing centroids\n",
    "        - Finding closest centroid for each point\n",
    "        - Finding optimal centroids\n",
    "    - Finding optimal value of k\n",
    "        - \"Elbow\" method"
   ]
  },
  {
   "cell_type": "markdown",
   "metadata": {
    "colab_type": "text",
    "id": "yuPXeVdmPev8"
   },
   "source": [
    "## 1 - Packages ##\n",
    "\n",
    "First, let's run the cell below to import all the packages that you will need during this assignment. \n",
    "- [numpy](www.numpy.org) is the fundamental package for scientific computing with Python.\n",
    "- [matplotlib](http://matplotlib.org) is a famous library to plot graphs in Python.\n",
    "- [seaborn](https://seaborn.pydata.org/)  is a Python visualization library based on matplotlib which provides a high-level interface for drawing graphics.\n",
    "- [JSAnimation](https://pypi.org/project/JSAnimation/) Javascript Animation exporter for matplotlib and IPython.\n",
    "- [mpl_toolkits](https://matplotlib.org/mpl_toolkits/index.html) collections of application-specific functions that extend Matplotlib."
   ]
  },
  {
   "cell_type": "code",
   "execution_count": 1,
   "metadata": {
    "colab": {
     "autoexec": {
      "startup": false,
      "wait_interval": 0
     }
    },
    "colab_type": "code",
    "id": "pvdtwUASPev8"
   },
   "outputs": [],
   "source": [
    "import numpy as np\n",
    "import matplotlib.pyplot as plt\n",
    "import seaborn as sns; sns.set()\n",
    "\n",
    "from JSAnimation import IPython_display\n",
    "from mpl_toolkits.mplot3d import Axes3D\n",
    "from matplotlib import animation\n",
    "\n",
    "%matplotlib inline"
   ]
  },
  {
   "cell_type": "markdown",
   "metadata": {
    "colab_type": "text",
    "id": "c6Zv7XKMPewA"
   },
   "source": [
    "## 2 - Overview of the Problem set ##\n",
    "\n",
    "**Problem Statement**: \n",
    "In this lab we will work with some simple synthetic dataset to see how the algorithm works. Run following cells to generate dataset:"
   ]
  },
  {
   "cell_type": "code",
   "execution_count": 2,
   "metadata": {
    "colab": {
     "autoexec": {
      "startup": false,
      "wait_interval": 0
     }
    },
    "colab_type": "code",
    "id": "qa5AdMZOPewA"
   },
   "outputs": [],
   "source": [
    "np.random.seed(37)\n",
    "X = np.vstack(((np.random.randn(150, 2)  + np.array([3, 0])),\n",
    "               (np.random.randn(100, 2)  + np.array([-3.5, 0.5])),\n",
    "               (np.random.randn(100, 2) + np.array([-0.5, -2])),\n",
    "               (np.random.randn(150, 2) + np.array([-2, -2.5])),\n",
    "               (np.random.randn(150, 2) + np.array([-5.5, -3]))))"
   ]
  },
  {
   "cell_type": "code",
   "execution_count": 3,
   "metadata": {
    "colab": {
     "autoexec": {
      "startup": false,
      "wait_interval": 0
     }
    },
    "colab_type": "code",
    "id": "YC0n1PcTPewC"
   },
   "outputs": [
    {
     "name": "stdout",
     "output_type": "stream",
     "text": [
      "First five examples:  [[ 2.94553639  0.67430807]\n",
      " [ 3.34664703 -1.30034617]\n",
      " [ 4.51851188  0.98982371]\n",
      " [ 3.2776809  -0.44858935]\n",
      " [ 3.96196624 -0.82757864]]\n"
     ]
    }
   ],
   "source": [
    "print('First five examples: ', X[:5])"
   ]
  },
  {
   "cell_type": "markdown",
   "metadata": {
    "colab_type": "text",
    "id": "tqzUflnhPewE"
   },
   "source": [
    "**Expected Output**: \n",
    "\n",
    "<table style=\"width:55%\">\n",
    "    <tr>\n",
    "        <td><b>First five examples</b></td>\n",
    "       <td> [[ 2.94553639  0.67430807]<br>\n",
    " [ 3.34664703 -1.30034617]<br>\n",
    " [ 4.51851188  0.98982371]<br>\n",
    " [ 3.2776809  -0.44858935]<br>\n",
    " [ 3.96196624 -0.82757864]]</td>\n",
    "    </tr>\n",
    "    \n",
    "</table>"
   ]
  },
  {
   "cell_type": "markdown",
   "metadata": {
    "colab_type": "text",
    "id": "k0yCai0xPewF"
   },
   "source": [
    "Our dataset represents 650 examples with 2 features:"
   ]
  },
  {
   "cell_type": "code",
   "execution_count": 4,
   "metadata": {
    "colab": {
     "autoexec": {
      "startup": false,
      "wait_interval": 0
     }
    },
    "colab_type": "code",
    "id": "Sng3Fu9cPewF"
   },
   "outputs": [
    {
     "name": "stdout",
     "output_type": "stream",
     "text": [
      "X.shape: (650, 2)\n"
     ]
    }
   ],
   "source": [
    "print('X.shape:', X.shape)"
   ]
  },
  {
   "cell_type": "markdown",
   "metadata": {
    "colab_type": "text",
    "id": "sf1CRY_KPewH"
   },
   "source": [
    "**Expected Output**: \n",
    "\n",
    "<table style=\"width:20%\">\n",
    "    <tr>\n",
    "        <td><b>X.shape:</b></td>\n",
    "       <td>(650, 2)\n",
    "    </tr>\n",
    "    \n",
    "</table>"
   ]
  },
  {
   "cell_type": "markdown",
   "metadata": {
    "colab_type": "text",
    "id": "6mjVEtcqPewI"
   },
   "source": [
    "## 3 - Visualisation\n",
    "\n",
    "Let's visualise our dataset to see how it looks like:"
   ]
  },
  {
   "cell_type": "code",
   "execution_count": 5,
   "metadata": {
    "colab": {
     "autoexec": {
      "startup": false,
      "wait_interval": 0
     }
    },
    "colab_type": "code",
    "id": "69I8eR_BPewJ"
   },
   "outputs": [
    {
     "data": {
      "image/png": "[encoded data removed]",
      "text/plain": [
       "<Figure size 432x288 with 1 Axes>"
      ]
     },
     "metadata": {
      "needs_background": "light"
     },
     "output_type": "display_data"
    }
   ],
   "source": [
    "plt.scatter(X[:, 0], X[:, 1], s=30)\n",
    "ax = plt.gca()"
   ]
  },
  {
   "cell_type": "markdown",
   "metadata": {
    "colab_type": "text",
    "id": "2x5IiNByPewL"
   },
   "source": [
    "## 4 - K-Means. General Architecture\n",
    "\n",
    "K-Means is a very simple algorithm which clusters the data into K number of clusters. The algorithm works as follows, assuming we have inputs $x_1,x_2,x_3,…,x_n$ and value of $k$:\n",
    "1. Pick $k$ random points as cluster centers called centroids\n",
    "2. Assign each $x_i$ to nearest cluster by calculating its distance to each centroid\n",
    "3. Find new cluster center by taking the average of the assigned points\n",
    "4. Repeat Step 2 and 3 until none of the cluster assignments change\n",
    "\n",
    "\n",
    "**Step 1**\n",
    "\n",
    "We randomly pick $k$ cluster centers(centroids). Let’s assume these are $c_1,c_2,…,c_k$, and we can say that:\n",
    "$$c_1,c_2,…,c_k \\epsilon  C,$$ is the set of all centroids.\n",
    "\n",
    "\n",
    "**Step 2**\n",
    "\n",
    "In this step we assign each input value to closest center. This is done by calculating squared Euclidian norm of the difference between the point and the each centroid:\n",
    "$$\\arg \\min_{c_i \\in C} ||x - c_i||^2.$$\n",
    "\n",
    "\n",
    "**Step 3**\n",
    "\n",
    "Finding the new centroid by taking the average of all the points assigned to that cluster:\n",
    "$$c_i = \\frac{1}{\\lvert S_i \\rvert}\\sum_{x_i \\in S_i} x_i,$$\n",
    "\n",
    "$S_i$ is the set of all points assigned to the $i_{th}$ cluster.\n",
    "\n",
    "\n",
    "**Step 4**\n",
    "\n",
    "Repeating *Step 2* and *Step 3* until none of the cluster assignments change. That means until our clusters remain stable, we repeat the algorithm."
   ]
  },
  {
   "cell_type": "code",
   "execution_count": 6,
   "metadata": {
    "colab": {
     "autoexec": {
      "startup": false,
      "wait_interval": 0
     }
    },
    "colab_type": "code",
    "id": "oUSohsWSPewM"
   },
   "outputs": [],
   "source": [
    "# GRADED CLASS: KMeans\n",
    "\n",
    "class KMeans(object):\n",
    "    \"\"\"\n",
    "    Parameters:\n",
    "    -----------\n",
    "    X -- np.array\n",
    "        Matrix of input features\n",
    "    k -- int\n",
    "        Number of clusters\n",
    "    \"\"\"\n",
    "    \n",
    "    def __init__(self, X, k):\n",
    "        self.X = X\n",
    "        self.k = k\n",
    "        \n",
    "    def initialize_centroids(self):\n",
    "        \"\"\" \n",
    "        Returns:\n",
    "        \n",
    "        Array of shape (k, n_features), \n",
    "            containing k centroids from the initial points\n",
    "        \"\"\"\n",
    "        \n",
    "        ### START CODE HERE ###\n",
    "        # use shuffle with random state = 512, and pick first k points\n",
    "        np.random.seed(512)\n",
    "        tmp = self.X.copy()\n",
    "        np.random.shuffle(tmp)\n",
    "        return tmp[:self.k]\n",
    "        ### END CODE HERE ###\n",
    "             \n",
    "    def closest_centroid(self, centroids):\n",
    "        \"\"\"\n",
    "        Returns:\n",
    "        \n",
    "        Array of shape (n_examples, ), \n",
    "            containing index of the nearest centroid for each point\n",
    "        \"\"\"\n",
    "        \n",
    "        ### START CODE HERE ###\n",
    "        broadcasted = self.X - centroids[:, np.newaxis]\n",
    "        norms = np.sqrt((broadcasted**2).sum(axis=2))\n",
    "        return np.argmin(norms, axis=0)\n",
    "        ### END CODE HERE ###\n",
    "    \n",
    "    def move_centroids(self, centroids):\n",
    "        \"\"\"\n",
    "        Returns:\n",
    "        \n",
    "        Array of shape (n_clusters, n_features),\n",
    "        containing the new centroids assigned from the points closest to them\n",
    "        \"\"\"\n",
    "        \n",
    "        ### START CODE HERE ###\n",
    "        closest = self.closest_centroid(centroids)\n",
    "        return np.array([self.X[closest==c].mean(axis=0) for c in range(self.k)])\n",
    "        ### END CODE HERE ###\n",
    "        \n",
    "\n",
    "    def final_centroids(self):\n",
    "        \"\"\"\n",
    "        Returns:\n",
    "        \n",
    "        clusters -- list of arrays, containing points of each cluster\n",
    "        centroids -- array of shape (n_clusters, n_features),\n",
    "            containing final centroids \n",
    "        \n",
    "        \"\"\"\n",
    "        \n",
    "        ### START CODE HERE ###\n",
    "        centroids = self.initialize_centroids()\n",
    "        new_centroids = self.move_centroids(centroids)\n",
    "        while True:\n",
    "            old_centroids = new_centroids\n",
    "            new_centroids = self.move_centroids(old_centroids)\n",
    "            if (new_centroids == old_centroids).all():\n",
    "                break\n",
    "        closest = self.closest_centroid(new_centroids)\n",
    "        clusters = [self.X[closest==c] for c in range(self.k)]\n",
    "        ### END CODE HERE ###\n",
    "\n",
    "        return clusters, new_centroids"
   ]
  },
  {
   "cell_type": "markdown",
   "metadata": {
    "colab_type": "text",
    "id": "a73aqhKoPewO"
   },
   "source": [
    "**Initializing our model:**"
   ]
  },
  {
   "cell_type": "code",
   "execution_count": 7,
   "metadata": {
    "colab": {
     "autoexec": {
      "startup": false,
      "wait_interval": 0
     }
    },
    "colab_type": "code",
    "id": "Y1L5_0YjPewP"
   },
   "outputs": [],
   "source": [
    "model = KMeans(X, 3)"
   ]
  },
  {
   "cell_type": "markdown",
   "metadata": {
    "colab_type": "text",
    "id": "WNjnYeBbPewR"
   },
   "source": [
    "**Initializing centroids:**"
   ]
  },
  {
   "cell_type": "code",
   "execution_count": 8,
   "metadata": {
    "colab": {
     "autoexec": {
      "startup": false,
      "wait_interval": 0
     }
    },
    "colab_type": "code",
    "id": "NlqLJ0fQPewS"
   },
   "outputs": [
    {
     "name": "stdout",
     "output_type": "stream",
     "text": [
      "Random centroids: [[-1.40039209 -2.75287814]\n",
      " [-1.63504004 -2.59016237]\n",
      " [ 2.26881985  0.83999591]]\n"
     ]
    }
   ],
   "source": [
    "centroids = model.initialize_centroids()\n",
    "print('Random centroids:', centroids)"
   ]
  },
  {
   "cell_type": "markdown",
   "metadata": {
    "colab_type": "text",
    "id": "iF4ehBxPPewT"
   },
   "source": [
    "**Expected Output**: \n",
    "\n",
    "<table style=\"width:40%\">\n",
    "    <tr>\n",
    "        <td><b>Random centroids:</b></td>\n",
    "        <td> [[-1.40039209 -2.75287814]<br>\n",
    " [-1.63504004 -2.59016237]<br>\n",
    " [ 2.26881985  0.83999591]] </td>     \n",
    "    </tr>\n",
    "</table>"
   ]
  },
  {
   "cell_type": "code",
   "execution_count": 9,
   "metadata": {
    "colab": {
     "autoexec": {
      "startup": false,
      "wait_interval": 0
     }
    },
    "colab_type": "code",
    "id": "ynJjW-SoPewU"
   },
   "outputs": [
    {
     "data": {
      "image/png": "[encoded data removed]",
      "text/plain": [
       "<Figure size 432x288 with 1 Axes>"
      ]
     },
     "metadata": {
      "needs_background": "light"
     },
     "output_type": "display_data"
    }
   ],
   "source": [
    "plt.scatter(X[:, 0], X[:, 1], s=30)\n",
    "plt.scatter(centroids[:,0], centroids[:,1], s=600, marker='*', c='r')\n",
    "ax = plt.gca()"
   ]
  },
  {
   "cell_type": "markdown",
   "metadata": {
    "colab_type": "text",
    "id": "J5nN9MKVPewX"
   },
   "source": [
    "**Finding closest centroids:**"
   ]
  },
  {
   "cell_type": "code",
   "execution_count": 10,
   "metadata": {
    "colab": {
     "autoexec": {
      "startup": false,
      "wait_interval": 0
     }
    },
    "colab_type": "code",
    "id": "ukyryTwZPewX"
   },
   "outputs": [
    {
     "name": "stdout",
     "output_type": "stream",
     "text": [
      "Closest centroids: [2 2 2 2 2 2 2 2 2 2]\n"
     ]
    }
   ],
   "source": [
    "closest = model.closest_centroid(centroids)\n",
    "print('Closest centroids:', closest[:10])"
   ]
  },
  {
   "cell_type": "markdown",
   "metadata": {
    "colab_type": "text",
    "id": "Hs6BTwAzPewa"
   },
   "source": [
    "**Expected Output**: \n",
    "\n",
    "<table style=\"width:45%\">\n",
    "    <tr>\n",
    "        <td><b>Closest:</b></td>\n",
    "       <td>  [2 2 2 2 2 2 2 2 2 2] </td> \n",
    "    </tr>\n",
    "    \n",
    "   \n",
    "</table>"
   ]
  },
  {
   "cell_type": "code",
   "execution_count": 11,
   "metadata": {
    "colab": {
     "autoexec": {
      "startup": false,
      "wait_interval": 0
     }
    },
    "colab_type": "code",
    "id": "4UTSHXrRPewa"
   },
   "outputs": [
    {
     "data": {
      "image/png": "[encoded data removed]",
      "text/plain": [
       "<Figure size 432x288 with 1 Axes>"
      ]
     },
     "metadata": {
      "needs_background": "light"
     },
     "output_type": "display_data"
    }
   ],
   "source": [
    "plt.scatter(X[:, 0], X[:, 1], s=30, c=closest)\n",
    "plt.scatter(centroids[:,0], centroids[:,1], s=600, marker='*', c='r')\n",
    "ax = plt.gca()"
   ]
  },
  {
   "cell_type": "markdown",
   "metadata": {
    "colab_type": "text",
    "id": "usyGia8hPewc"
   },
   "source": [
    "**Move centroids:**"
   ]
  },
  {
   "cell_type": "code",
   "execution_count": 12,
   "metadata": {
    "colab": {
     "autoexec": {
      "startup": false,
      "wait_interval": 0
     }
    },
    "colab_type": "code",
    "id": "06z2u9CePewd"
   },
   "outputs": [
    {
     "name": "stdout",
     "output_type": "stream",
     "text": [
      "Next centroids: [[-0.52555543 -2.61409225]\n",
      " [-3.77584338 -1.83022158]\n",
      " [ 2.83673723 -0.03476791]]\n"
     ]
    }
   ],
   "source": [
    "next_centroids = model.move_centroids(centroids)\n",
    "print('Next centroids:', next_centroids)"
   ]
  },
  {
   "cell_type": "markdown",
   "metadata": {
    "colab_type": "text",
    "id": "6qRNcAQTPewf"
   },
   "source": [
    "**Expected Output**: \n",
    "\n",
    "<table style=\"width:45%\">\n",
    "    <tr>\n",
    "        <td style=\"width:15%\"><b>Final centroids:</b></td>\n",
    "       <td>  [[-0.52555543 -2.61409225]<br>\n",
    " [-3.77584338 -1.83022158]<br>\n",
    " [ 2.83673723 -0.03476791]]</td> \n",
    "    </tr>\n",
    "</table>"
   ]
  },
  {
   "cell_type": "code",
   "execution_count": 13,
   "metadata": {
    "colab": {
     "autoexec": {
      "startup": false,
      "wait_interval": 0
     }
    },
    "colab_type": "code",
    "id": "B7ssrGq1B4GY"
   },
   "outputs": [
    {
     "name": "stdout",
     "output_type": "stream",
     "text": [
      "Final centroids: [[-1.78766936 -1.54395138]\n",
      " [-5.31097327 -2.7087451 ]\n",
      " [ 2.92388133 -0.10237201]]\n",
      "Clusters points: [-2.85012507 -0.77129955] [-5.73089369 -0.18855257] [2.94553639 0.67430807]\n"
     ]
    }
   ],
   "source": [
    "clusters, final_centrs = model.final_centroids()\n",
    "print('Final centroids:', final_centrs)\n",
    "print('Clusters points:', clusters[0][0], clusters[1][0], clusters[2][0])"
   ]
  },
  {
   "cell_type": "markdown",
   "metadata": {
    "colab_type": "text",
    "id": "krFaxXgKB4GZ"
   },
   "source": [
    "**Expected Output**: \n",
    "\n",
    "<table style=\"width:45%\">\n",
    "    <tr>\n",
    "        <td style=\"width:15%\"><b>Final centroids:</b></td>\n",
    "       <td>  [[-1.78766936 -1.54395138]<br>\n",
    " [-5.31097327 -2.7087451 ]<br>\n",
    " [ 2.92388133 -0.10237201]]</td>\n",
    "    </tr>\n",
    "    <tr>\n",
    "        <td><b>Clusters points:</b></td>\n",
    "       <td>  [-2.85012507 -0.77129955]<br>\n",
    "             [-5.73089369 -0.18855257]<br>\n",
    "             [ 2.94553639  0.67430807]</td>\n",
    "    </tr>\n",
    "</table>"
   ]
  },
  {
   "cell_type": "markdown",
   "metadata": {
    "colab_type": "text",
    "id": "E340GS6NPewf"
   },
   "source": [
    "Now let's demonstrate performance of the algiritm:"
   ]
  },
  {
   "cell_type": "code",
   "execution_count": 14,
   "metadata": {
    "colab": {
     "autoexec": {
      "startup": false,
      "wait_interval": 0
     }
    },
    "colab_type": "code",
    "id": "ePtkFLk1Pewg"
   },
   "outputs": [
    {
     "ename": "AttributeError",
     "evalue": "'HTMLWriter' object has no attribute '_temp_names'",
     "output_type": "error",
     "traceback": [
      "\u001b[1;31m---------------------------------------------------------------------------\u001b[0m",
      "\u001b[1;31mAttributeError\u001b[0m                            Traceback (most recent call last)",
      "\u001b[1;32m~\\anaconda3\\envs\\main_38\\lib\\site-packages\\IPython\\core\\formatters.py\u001b[0m in \u001b[0;36m__call__\u001b[1;34m(self, obj)\u001b[0m\n\u001b[0;32m    343\u001b[0m             \u001b[0mmethod\u001b[0m \u001b[1;33m=\u001b[0m \u001b[0mget_real_method\u001b[0m\u001b[1;33m(\u001b[0m\u001b[0mobj\u001b[0m\u001b[1;33m,\u001b[0m \u001b[0mself\u001b[0m\u001b[1;33m.\u001b[0m\u001b[0mprint_method\u001b[0m\u001b[1;33m)\u001b[0m\u001b[1;33m\u001b[0m\u001b[1;33m\u001b[0m\u001b[0m\n\u001b[0;32m    344\u001b[0m             \u001b[1;32mif\u001b[0m \u001b[0mmethod\u001b[0m \u001b[1;32mis\u001b[0m \u001b[1;32mnot\u001b[0m \u001b[1;32mNone\u001b[0m\u001b[1;33m:\u001b[0m\u001b[1;33m\u001b[0m\u001b[1;33m\u001b[0m\u001b[0m\n\u001b[1;32m--> 345\u001b[1;33m                 \u001b[1;32mreturn\u001b[0m \u001b[0mmethod\u001b[0m\u001b[1;33m(\u001b[0m\u001b[1;33m)\u001b[0m\u001b[1;33m\u001b[0m\u001b[1;33m\u001b[0m\u001b[0m\n\u001b[0m\u001b[0;32m    346\u001b[0m             \u001b[1;32mreturn\u001b[0m \u001b[1;32mNone\u001b[0m\u001b[1;33m\u001b[0m\u001b[1;33m\u001b[0m\u001b[0m\n\u001b[0;32m    347\u001b[0m         \u001b[1;32melse\u001b[0m\u001b[1;33m:\u001b[0m\u001b[1;33m\u001b[0m\u001b[1;33m\u001b[0m\u001b[0m\n",
      "\u001b[1;32m~\\anaconda3\\envs\\main_38\\lib\\site-packages\\JSAnimation\\IPython_display.py\u001b[0m in \u001b[0;36manim_to_html\u001b[1;34m(anim, fps, embed_frames, default_mode)\u001b[0m\n\u001b[0;32m     72\u001b[0m         \u001b[1;31m#with tempfile.NamedTemporaryFile(suffix='.html') as f:\u001b[0m\u001b[1;33m\u001b[0m\u001b[1;33m\u001b[0m\u001b[1;33m\u001b[0m\u001b[0m\n\u001b[0;32m     73\u001b[0m         \u001b[1;32mwith\u001b[0m \u001b[0m_NameOnlyTemporaryFile\u001b[0m\u001b[1;33m(\u001b[0m\u001b[0msuffix\u001b[0m\u001b[1;33m=\u001b[0m\u001b[1;34m'.html'\u001b[0m\u001b[1;33m)\u001b[0m \u001b[1;32mas\u001b[0m \u001b[0mf\u001b[0m\u001b[1;33m:\u001b[0m\u001b[1;33m\u001b[0m\u001b[1;33m\u001b[0m\u001b[0m\n\u001b[1;32m---> 74\u001b[1;33m             anim.save(f.name,  writer=HTMLWriter(fps=fps,\n\u001b[0m\u001b[0;32m     75\u001b[0m                                                  \u001b[0membed_frames\u001b[0m\u001b[1;33m=\u001b[0m\u001b[0membed_frames\u001b[0m\u001b[1;33m,\u001b[0m\u001b[1;33m\u001b[0m\u001b[1;33m\u001b[0m\u001b[0m\n\u001b[0;32m     76\u001b[0m                                                  default_mode=default_mode))\n",
      "\u001b[1;32m~\\anaconda3\\envs\\main_38\\lib\\site-packages\\matplotlib\\animation.py\u001b[0m in \u001b[0;36msave\u001b[1;34m(self, filename, writer, fps, dpi, codec, bitrate, extra_args, metadata, extra_anim, savefig_kwargs, progress_callback)\u001b[0m\n\u001b[0;32m   1150\u001b[0m                             \u001b[0mprogress_callback\u001b[0m\u001b[1;33m(\u001b[0m\u001b[0mframe_number\u001b[0m\u001b[1;33m,\u001b[0m \u001b[0mtotal_frames\u001b[0m\u001b[1;33m)\u001b[0m\u001b[1;33m\u001b[0m\u001b[1;33m\u001b[0m\u001b[0m\n\u001b[0;32m   1151\u001b[0m                             \u001b[0mframe_number\u001b[0m \u001b[1;33m+=\u001b[0m \u001b[1;36m1\u001b[0m\u001b[1;33m\u001b[0m\u001b[1;33m\u001b[0m\u001b[0m\n\u001b[1;32m-> 1152\u001b[1;33m                     \u001b[0mwriter\u001b[0m\u001b[1;33m.\u001b[0m\u001b[0mgrab_frame\u001b[0m\u001b[1;33m(\u001b[0m\u001b[1;33m**\u001b[0m\u001b[0msavefig_kwargs\u001b[0m\u001b[1;33m)\u001b[0m\u001b[1;33m\u001b[0m\u001b[1;33m\u001b[0m\u001b[0m\n\u001b[0m\u001b[0;32m   1153\u001b[0m \u001b[1;33m\u001b[0m\u001b[0m\n\u001b[0;32m   1154\u001b[0m         \u001b[1;31m# Reconnect signal for first draw if necessary\u001b[0m\u001b[1;33m\u001b[0m\u001b[1;33m\u001b[0m\u001b[1;33m\u001b[0m\u001b[0m\n",
      "\u001b[1;32m~\\anaconda3\\envs\\main_38\\lib\\contextlib.py\u001b[0m in \u001b[0;36m__exit__\u001b[1;34m(self, type, value, traceback)\u001b[0m\n\u001b[0;32m    118\u001b[0m         \u001b[1;32mif\u001b[0m \u001b[0mtype\u001b[0m \u001b[1;32mis\u001b[0m \u001b[1;32mNone\u001b[0m\u001b[1;33m:\u001b[0m\u001b[1;33m\u001b[0m\u001b[1;33m\u001b[0m\u001b[0m\n\u001b[0;32m    119\u001b[0m             \u001b[1;32mtry\u001b[0m\u001b[1;33m:\u001b[0m\u001b[1;33m\u001b[0m\u001b[1;33m\u001b[0m\u001b[0m\n\u001b[1;32m--> 120\u001b[1;33m                 \u001b[0mnext\u001b[0m\u001b[1;33m(\u001b[0m\u001b[0mself\u001b[0m\u001b[1;33m.\u001b[0m\u001b[0mgen\u001b[0m\u001b[1;33m)\u001b[0m\u001b[1;33m\u001b[0m\u001b[1;33m\u001b[0m\u001b[0m\n\u001b[0m\u001b[0;32m    121\u001b[0m             \u001b[1;32mexcept\u001b[0m \u001b[0mStopIteration\u001b[0m\u001b[1;33m:\u001b[0m\u001b[1;33m\u001b[0m\u001b[1;33m\u001b[0m\u001b[0m\n\u001b[0;32m    122\u001b[0m                 \u001b[1;32mreturn\u001b[0m \u001b[1;32mFalse\u001b[0m\u001b[1;33m\u001b[0m\u001b[1;33m\u001b[0m\u001b[0m\n",
      "\u001b[1;32m~\\anaconda3\\envs\\main_38\\lib\\site-packages\\matplotlib\\animation.py\u001b[0m in \u001b[0;36msaving\u001b[1;34m(self, fig, outfile, dpi, *args, **kwargs)\u001b[0m\n\u001b[0;32m    230\u001b[0m             \u001b[1;32myield\u001b[0m \u001b[0mself\u001b[0m\u001b[1;33m\u001b[0m\u001b[1;33m\u001b[0m\u001b[0m\n\u001b[0;32m    231\u001b[0m         \u001b[1;32mfinally\u001b[0m\u001b[1;33m:\u001b[0m\u001b[1;33m\u001b[0m\u001b[1;33m\u001b[0m\u001b[0m\n\u001b[1;32m--> 232\u001b[1;33m             \u001b[0mself\u001b[0m\u001b[1;33m.\u001b[0m\u001b[0mfinish\u001b[0m\u001b[1;33m(\u001b[0m\u001b[1;33m)\u001b[0m\u001b[1;33m\u001b[0m\u001b[1;33m\u001b[0m\u001b[0m\n\u001b[0m\u001b[0;32m    233\u001b[0m \u001b[1;33m\u001b[0m\u001b[0m\n\u001b[0;32m    234\u001b[0m \u001b[1;33m\u001b[0m\u001b[0m\n",
      "\u001b[1;32m~\\anaconda3\\envs\\main_38\\lib\\site-packages\\matplotlib\\animation.py\u001b[0m in \u001b[0;36mfinish\u001b[1;34m(self)\u001b[0m\n\u001b[0;32m    526\u001b[0m         \u001b[1;31m# Call run here now that all frame grabbing is done. All temp files\u001b[0m\u001b[1;33m\u001b[0m\u001b[1;33m\u001b[0m\u001b[1;33m\u001b[0m\u001b[0m\n\u001b[0;32m    527\u001b[0m         \u001b[1;31m# are available to be assembled.\u001b[0m\u001b[1;33m\u001b[0m\u001b[1;33m\u001b[0m\u001b[1;33m\u001b[0m\u001b[0m\n\u001b[1;32m--> 528\u001b[1;33m         \u001b[0mself\u001b[0m\u001b[1;33m.\u001b[0m\u001b[0m_run\u001b[0m\u001b[1;33m(\u001b[0m\u001b[1;33m)\u001b[0m\u001b[1;33m\u001b[0m\u001b[1;33m\u001b[0m\u001b[0m\n\u001b[0m\u001b[0;32m    529\u001b[0m         \u001b[0mMovieWriter\u001b[0m\u001b[1;33m.\u001b[0m\u001b[0mfinish\u001b[0m\u001b[1;33m(\u001b[0m\u001b[0mself\u001b[0m\u001b[1;33m)\u001b[0m  \u001b[1;31m# Will call clean-up\u001b[0m\u001b[1;33m\u001b[0m\u001b[1;33m\u001b[0m\u001b[0m\n\u001b[0;32m    530\u001b[0m \u001b[1;33m\u001b[0m\u001b[0m\n",
      "\u001b[1;32m~\\anaconda3\\envs\\main_38\\lib\\site-packages\\JSAnimation\\html_writer.py\u001b[0m in \u001b[0;36m_run\u001b[1;34m(self)\u001b[0m\n\u001b[0;32m    321\u001b[0m             \u001b[0mof\u001b[0m\u001b[1;33m.\u001b[0m\u001b[0mwrite\u001b[0m\u001b[1;33m(\u001b[0m\u001b[0mJS_INCLUDE\u001b[0m\u001b[1;33m)\u001b[0m\u001b[1;33m\u001b[0m\u001b[1;33m\u001b[0m\u001b[0m\n\u001b[0;32m    322\u001b[0m             of.write(DISPLAY_TEMPLATE.format(id=self.new_id(),\n\u001b[1;32m--> 323\u001b[1;33m                                              \u001b[0mNframes\u001b[0m\u001b[1;33m=\u001b[0m\u001b[0mlen\u001b[0m\u001b[1;33m(\u001b[0m\u001b[0mself\u001b[0m\u001b[1;33m.\u001b[0m\u001b[0m_temp_names\u001b[0m\u001b[1;33m)\u001b[0m\u001b[1;33m,\u001b[0m\u001b[1;33m\u001b[0m\u001b[1;33m\u001b[0m\u001b[0m\n\u001b[0m\u001b[0;32m    324\u001b[0m                                              \u001b[0mfill_frames\u001b[0m\u001b[1;33m=\u001b[0m\u001b[0mfill_frames\u001b[0m\u001b[1;33m,\u001b[0m\u001b[1;33m\u001b[0m\u001b[1;33m\u001b[0m\u001b[0m\n\u001b[0;32m    325\u001b[0m                                              \u001b[0minterval\u001b[0m\u001b[1;33m=\u001b[0m\u001b[0minterval\u001b[0m\u001b[1;33m,\u001b[0m\u001b[1;33m\u001b[0m\u001b[1;33m\u001b[0m\u001b[0m\n",
      "\u001b[1;31mAttributeError\u001b[0m: 'HTMLWriter' object has no attribute '_temp_names'"
     ]
    },
    {
     "data": {
      "text/plain": [
       "<matplotlib.animation.FuncAnimation at 0x236b66d6d60>"
      ]
     },
     "execution_count": 14,
     "metadata": {},
     "output_type": "execute_result"
    }
   ],
   "source": [
    "from JSAnimation import IPython_display\n",
    "from matplotlib import animation\n",
    "fig = plt.figure()\n",
    "ax = plt.axes(xlim=(-4, 4), ylim=(-4, 4))\n",
    "centroids = model.initialize_centroids()\n",
    "\n",
    "line1, = ax.plot([], [], 'o')\n",
    "line2, = ax.plot([], [], 'o')\n",
    "\n",
    "def init():\n",
    "    line1.set_data([], [])\n",
    "    line2.set_data([], [])\n",
    "    return line1,line2\n",
    "\n",
    "def animate(i):\n",
    "    global centroids\n",
    "    closest = model.closest_centroid(centroids)\n",
    "    centroids = model.move_centroids(centroids)\n",
    "    ax.cla()\n",
    "    ax.scatter(X[:, 0], X[:, 1], c=closest)\n",
    "    ax.scatter(centroids[:, 0], centroids[:, 1],  marker='*', c='r', s=600)\n",
    "    \n",
    "    line1.set_data(X[:, 0] , X[:, 1])\n",
    "    line2.set_data(centroids[:, 0] ,centroids[:, 1])\n",
    "    return line1, line2\n",
    "\n",
    "animation.FuncAnimation(fig, animate, init_func=init,\n",
    "                        frames=15, interval=150, blit=True)"
   ]
  },
  {
   "cell_type": "markdown",
   "metadata": {
    "colab_type": "text",
    "id": "LZ7Cnw0ePewh"
   },
   "source": [
    "## 5 - Finding Optimal Value of K\n",
    "\n",
    "Now we can check if our value of k is right. Let's use \"elbow\" method to do this.\n",
    "\n",
    "To find a visual “elbow” which is the optimal number of clusters, we need to calculate the average sum of squared distance between points and centroid inside of each cluster. Mathematically,\n",
    "$$W_k = \\frac{1}{k}\\sum_{i=1}^{k} \\sum_{j}^{n_s} ||x_{ij} - c_i||^2$$\n",
    "Where $k$ is the number of clusters, $n_S$ is the number of points in cluster $S$.\n",
    "\n",
    "Implement function to find $W_k$ in the cell below:"
   ]
  },
  {
   "cell_type": "code",
   "execution_count": 15,
   "metadata": {
    "colab": {
     "autoexec": {
      "startup": false,
      "wait_interval": 0
     }
    },
    "colab_type": "code",
    "id": "ZVYkaHNpPewi"
   },
   "outputs": [],
   "source": [
    "# GRADED FUNCTION: mean_distances\n",
    "\n",
    "def mean_distances(k, X):\n",
    "    \"\"\"\n",
    "    Arguments:\n",
    "    \n",
    "    k -- int, number of clusters\n",
    "    X -- np.array, matrix of input features\n",
    "    \n",
    "    Returns:\n",
    "    \n",
    "    Array of shape (k, ), containing mean of sum distances \n",
    "        from centroid to each point in the cluster for k clusters\n",
    "    \"\"\"\n",
    "    \n",
    "    ### START CODE HERE ###\n",
    "    output = []\n",
    "    for cluster_num in range(1, k + 1):\n",
    "        model = KMeans(X, cluster_num)\n",
    "        centroids = model.initialize_centroids()\n",
    "        clusters, centroids = model.final_centroids()\n",
    "        output.append(np.array([((clusters[i] - centroids[i])**2).sum(axis=1).sum() for i in range(cluster_num)]).mean())\n",
    "    return np.array(output)\n",
    "    ### END CODE HERE ###"
   ]
  },
  {
   "cell_type": "code",
   "execution_count": 16,
   "metadata": {
    "colab": {
     "autoexec": {
      "startup": false,
      "wait_interval": 0
     }
    },
    "colab_type": "code",
    "id": "TR6ROFNgPewl"
   },
   "outputs": [
    {
     "name": "stdout",
     "output_type": "stream",
     "text": [
      "Mean distances:  [8350.90848673 1755.47187315  685.22919558  322.6593165   232.80018991\n",
      "  160.19202207  126.99851263  101.4422168    77.38601548   64.55960047]\n"
     ]
    }
   ],
   "source": [
    "print('Mean distances: ', mean_distances(10, X)) "
   ]
  },
  {
   "cell_type": "markdown",
   "metadata": {
    "colab_type": "text",
    "id": "_0YEudPTPewo"
   },
   "source": [
    "**Expected Output**: \n",
    "\n",
    "<table style=\"width:40%\">\n",
    "    <tr>\n",
    "        <td><b>Mean distances:</b></td>\n",
    "       <td>[ 8350.90848673<br>1755.47187315<br>685.22919558<br>322.6593165<br>232.80018991<br>160.19202207<br>126.99851263<br>101.4422168<br>77.38601548<br>64.55960047]</td>\n",
    "    </tr>\n",
    "</table>"
   ]
  },
  {
   "cell_type": "markdown",
   "metadata": {
    "colab_type": "text",
    "id": "9jN9DWFlPewo"
   },
   "source": [
    "Let's plot the results:"
   ]
  },
  {
   "cell_type": "code",
   "execution_count": 17,
   "metadata": {
    "colab": {
     "autoexec": {
      "startup": false,
      "wait_interval": 0
     }
    },
    "colab_type": "code",
    "id": "hz3vg9PfB4Gk"
   },
   "outputs": [
    {
     "data": {
      "image/png": "[encoded data removed]",
      "text/plain": [
       "<Figure size 432x288 with 1 Axes>"
      ]
     },
     "metadata": {
      "needs_background": "light"
     },
     "output_type": "display_data"
    }
   ],
   "source": [
    "k_clusters = range(1, 11)\n",
    "distances = mean_distances(10, X)\n",
    "plt.plot(k_clusters, distances)\n",
    "plt.xlabel('k')\n",
    "plt.ylabel('Mean distance')\n",
    "plt.title('The Elbow Method showing the optimal k')\n",
    "plt.show()"
   ]
  },
  {
   "cell_type": "markdown",
   "metadata": {
    "colab_type": "text",
    "id": "CaF16tRMPewr"
   },
   "source": [
    "The plot shows that 3 is optimal value of k. But now we can also check performance of the algorithm with another values:"
   ]
  },
  {
   "cell_type": "code",
   "execution_count": 18,
   "metadata": {
    "colab": {
     "autoexec": {
      "startup": false,
      "wait_interval": 0
     }
    },
    "colab_type": "code",
    "id": "fDu9hcxgPewr"
   },
   "outputs": [
    {
     "ename": "AttributeError",
     "evalue": "'HTMLWriter' object has no attribute '_temp_names'",
     "output_type": "error",
     "traceback": [
      "\u001b[1;31m---------------------------------------------------------------------------\u001b[0m",
      "\u001b[1;31mAttributeError\u001b[0m                            Traceback (most recent call last)",
      "\u001b[1;32m~\\anaconda3\\envs\\main_38\\lib\\site-packages\\IPython\\core\\formatters.py\u001b[0m in \u001b[0;36m__call__\u001b[1;34m(self, obj)\u001b[0m\n\u001b[0;32m    343\u001b[0m             \u001b[0mmethod\u001b[0m \u001b[1;33m=\u001b[0m \u001b[0mget_real_method\u001b[0m\u001b[1;33m(\u001b[0m\u001b[0mobj\u001b[0m\u001b[1;33m,\u001b[0m \u001b[0mself\u001b[0m\u001b[1;33m.\u001b[0m\u001b[0mprint_method\u001b[0m\u001b[1;33m)\u001b[0m\u001b[1;33m\u001b[0m\u001b[1;33m\u001b[0m\u001b[0m\n\u001b[0;32m    344\u001b[0m             \u001b[1;32mif\u001b[0m \u001b[0mmethod\u001b[0m \u001b[1;32mis\u001b[0m \u001b[1;32mnot\u001b[0m \u001b[1;32mNone\u001b[0m\u001b[1;33m:\u001b[0m\u001b[1;33m\u001b[0m\u001b[1;33m\u001b[0m\u001b[0m\n\u001b[1;32m--> 345\u001b[1;33m                 \u001b[1;32mreturn\u001b[0m \u001b[0mmethod\u001b[0m\u001b[1;33m(\u001b[0m\u001b[1;33m)\u001b[0m\u001b[1;33m\u001b[0m\u001b[1;33m\u001b[0m\u001b[0m\n\u001b[0m\u001b[0;32m    346\u001b[0m             \u001b[1;32mreturn\u001b[0m \u001b[1;32mNone\u001b[0m\u001b[1;33m\u001b[0m\u001b[1;33m\u001b[0m\u001b[0m\n\u001b[0;32m    347\u001b[0m         \u001b[1;32melse\u001b[0m\u001b[1;33m:\u001b[0m\u001b[1;33m\u001b[0m\u001b[1;33m\u001b[0m\u001b[0m\n",
      "\u001b[1;32m~\\anaconda3\\envs\\main_38\\lib\\site-packages\\JSAnimation\\IPython_display.py\u001b[0m in \u001b[0;36manim_to_html\u001b[1;34m(anim, fps, embed_frames, default_mode)\u001b[0m\n\u001b[0;32m     72\u001b[0m         \u001b[1;31m#with tempfile.NamedTemporaryFile(suffix='.html') as f:\u001b[0m\u001b[1;33m\u001b[0m\u001b[1;33m\u001b[0m\u001b[1;33m\u001b[0m\u001b[0m\n\u001b[0;32m     73\u001b[0m         \u001b[1;32mwith\u001b[0m \u001b[0m_NameOnlyTemporaryFile\u001b[0m\u001b[1;33m(\u001b[0m\u001b[0msuffix\u001b[0m\u001b[1;33m=\u001b[0m\u001b[1;34m'.html'\u001b[0m\u001b[1;33m)\u001b[0m \u001b[1;32mas\u001b[0m \u001b[0mf\u001b[0m\u001b[1;33m:\u001b[0m\u001b[1;33m\u001b[0m\u001b[1;33m\u001b[0m\u001b[0m\n\u001b[1;32m---> 74\u001b[1;33m             anim.save(f.name,  writer=HTMLWriter(fps=fps,\n\u001b[0m\u001b[0;32m     75\u001b[0m                                                  \u001b[0membed_frames\u001b[0m\u001b[1;33m=\u001b[0m\u001b[0membed_frames\u001b[0m\u001b[1;33m,\u001b[0m\u001b[1;33m\u001b[0m\u001b[1;33m\u001b[0m\u001b[0m\n\u001b[0;32m     76\u001b[0m                                                  default_mode=default_mode))\n",
      "\u001b[1;32m~\\anaconda3\\envs\\main_38\\lib\\site-packages\\matplotlib\\animation.py\u001b[0m in \u001b[0;36msave\u001b[1;34m(self, filename, writer, fps, dpi, codec, bitrate, extra_args, metadata, extra_anim, savefig_kwargs, progress_callback)\u001b[0m\n\u001b[0;32m   1150\u001b[0m                             \u001b[0mprogress_callback\u001b[0m\u001b[1;33m(\u001b[0m\u001b[0mframe_number\u001b[0m\u001b[1;33m,\u001b[0m \u001b[0mtotal_frames\u001b[0m\u001b[1;33m)\u001b[0m\u001b[1;33m\u001b[0m\u001b[1;33m\u001b[0m\u001b[0m\n\u001b[0;32m   1151\u001b[0m                             \u001b[0mframe_number\u001b[0m \u001b[1;33m+=\u001b[0m \u001b[1;36m1\u001b[0m\u001b[1;33m\u001b[0m\u001b[1;33m\u001b[0m\u001b[0m\n\u001b[1;32m-> 1152\u001b[1;33m                     \u001b[0mwriter\u001b[0m\u001b[1;33m.\u001b[0m\u001b[0mgrab_frame\u001b[0m\u001b[1;33m(\u001b[0m\u001b[1;33m**\u001b[0m\u001b[0msavefig_kwargs\u001b[0m\u001b[1;33m)\u001b[0m\u001b[1;33m\u001b[0m\u001b[1;33m\u001b[0m\u001b[0m\n\u001b[0m\u001b[0;32m   1153\u001b[0m \u001b[1;33m\u001b[0m\u001b[0m\n\u001b[0;32m   1154\u001b[0m         \u001b[1;31m# Reconnect signal for first draw if necessary\u001b[0m\u001b[1;33m\u001b[0m\u001b[1;33m\u001b[0m\u001b[1;33m\u001b[0m\u001b[0m\n",
      "\u001b[1;32m~\\anaconda3\\envs\\main_38\\lib\\contextlib.py\u001b[0m in \u001b[0;36m__exit__\u001b[1;34m(self, type, value, traceback)\u001b[0m\n\u001b[0;32m    118\u001b[0m         \u001b[1;32mif\u001b[0m \u001b[0mtype\u001b[0m \u001b[1;32mis\u001b[0m \u001b[1;32mNone\u001b[0m\u001b[1;33m:\u001b[0m\u001b[1;33m\u001b[0m\u001b[1;33m\u001b[0m\u001b[0m\n\u001b[0;32m    119\u001b[0m             \u001b[1;32mtry\u001b[0m\u001b[1;33m:\u001b[0m\u001b[1;33m\u001b[0m\u001b[1;33m\u001b[0m\u001b[0m\n\u001b[1;32m--> 120\u001b[1;33m                 \u001b[0mnext\u001b[0m\u001b[1;33m(\u001b[0m\u001b[0mself\u001b[0m\u001b[1;33m.\u001b[0m\u001b[0mgen\u001b[0m\u001b[1;33m)\u001b[0m\u001b[1;33m\u001b[0m\u001b[1;33m\u001b[0m\u001b[0m\n\u001b[0m\u001b[0;32m    121\u001b[0m             \u001b[1;32mexcept\u001b[0m \u001b[0mStopIteration\u001b[0m\u001b[1;33m:\u001b[0m\u001b[1;33m\u001b[0m\u001b[1;33m\u001b[0m\u001b[0m\n\u001b[0;32m    122\u001b[0m                 \u001b[1;32mreturn\u001b[0m \u001b[1;32mFalse\u001b[0m\u001b[1;33m\u001b[0m\u001b[1;33m\u001b[0m\u001b[0m\n",
      "\u001b[1;32m~\\anaconda3\\envs\\main_38\\lib\\site-packages\\matplotlib\\animation.py\u001b[0m in \u001b[0;36msaving\u001b[1;34m(self, fig, outfile, dpi, *args, **kwargs)\u001b[0m\n\u001b[0;32m    230\u001b[0m             \u001b[1;32myield\u001b[0m \u001b[0mself\u001b[0m\u001b[1;33m\u001b[0m\u001b[1;33m\u001b[0m\u001b[0m\n\u001b[0;32m    231\u001b[0m         \u001b[1;32mfinally\u001b[0m\u001b[1;33m:\u001b[0m\u001b[1;33m\u001b[0m\u001b[1;33m\u001b[0m\u001b[0m\n\u001b[1;32m--> 232\u001b[1;33m             \u001b[0mself\u001b[0m\u001b[1;33m.\u001b[0m\u001b[0mfinish\u001b[0m\u001b[1;33m(\u001b[0m\u001b[1;33m)\u001b[0m\u001b[1;33m\u001b[0m\u001b[1;33m\u001b[0m\u001b[0m\n\u001b[0m\u001b[0;32m    233\u001b[0m \u001b[1;33m\u001b[0m\u001b[0m\n\u001b[0;32m    234\u001b[0m \u001b[1;33m\u001b[0m\u001b[0m\n",
      "\u001b[1;32m~\\anaconda3\\envs\\main_38\\lib\\site-packages\\matplotlib\\animation.py\u001b[0m in \u001b[0;36mfinish\u001b[1;34m(self)\u001b[0m\n\u001b[0;32m    526\u001b[0m         \u001b[1;31m# Call run here now that all frame grabbing is done. All temp files\u001b[0m\u001b[1;33m\u001b[0m\u001b[1;33m\u001b[0m\u001b[1;33m\u001b[0m\u001b[0m\n\u001b[0;32m    527\u001b[0m         \u001b[1;31m# are available to be assembled.\u001b[0m\u001b[1;33m\u001b[0m\u001b[1;33m\u001b[0m\u001b[1;33m\u001b[0m\u001b[0m\n\u001b[1;32m--> 528\u001b[1;33m         \u001b[0mself\u001b[0m\u001b[1;33m.\u001b[0m\u001b[0m_run\u001b[0m\u001b[1;33m(\u001b[0m\u001b[1;33m)\u001b[0m\u001b[1;33m\u001b[0m\u001b[1;33m\u001b[0m\u001b[0m\n\u001b[0m\u001b[0;32m    529\u001b[0m         \u001b[0mMovieWriter\u001b[0m\u001b[1;33m.\u001b[0m\u001b[0mfinish\u001b[0m\u001b[1;33m(\u001b[0m\u001b[0mself\u001b[0m\u001b[1;33m)\u001b[0m  \u001b[1;31m# Will call clean-up\u001b[0m\u001b[1;33m\u001b[0m\u001b[1;33m\u001b[0m\u001b[0m\n\u001b[0;32m    530\u001b[0m \u001b[1;33m\u001b[0m\u001b[0m\n",
      "\u001b[1;32m~\\anaconda3\\envs\\main_38\\lib\\site-packages\\JSAnimation\\html_writer.py\u001b[0m in \u001b[0;36m_run\u001b[1;34m(self)\u001b[0m\n\u001b[0;32m    321\u001b[0m             \u001b[0mof\u001b[0m\u001b[1;33m.\u001b[0m\u001b[0mwrite\u001b[0m\u001b[1;33m(\u001b[0m\u001b[0mJS_INCLUDE\u001b[0m\u001b[1;33m)\u001b[0m\u001b[1;33m\u001b[0m\u001b[1;33m\u001b[0m\u001b[0m\n\u001b[0;32m    322\u001b[0m             of.write(DISPLAY_TEMPLATE.format(id=self.new_id(),\n\u001b[1;32m--> 323\u001b[1;33m                                              \u001b[0mNframes\u001b[0m\u001b[1;33m=\u001b[0m\u001b[0mlen\u001b[0m\u001b[1;33m(\u001b[0m\u001b[0mself\u001b[0m\u001b[1;33m.\u001b[0m\u001b[0m_temp_names\u001b[0m\u001b[1;33m)\u001b[0m\u001b[1;33m,\u001b[0m\u001b[1;33m\u001b[0m\u001b[1;33m\u001b[0m\u001b[0m\n\u001b[0m\u001b[0;32m    324\u001b[0m                                              \u001b[0mfill_frames\u001b[0m\u001b[1;33m=\u001b[0m\u001b[0mfill_frames\u001b[0m\u001b[1;33m,\u001b[0m\u001b[1;33m\u001b[0m\u001b[1;33m\u001b[0m\u001b[0m\n\u001b[0;32m    325\u001b[0m                                              \u001b[0minterval\u001b[0m\u001b[1;33m=\u001b[0m\u001b[0minterval\u001b[0m\u001b[1;33m,\u001b[0m\u001b[1;33m\u001b[0m\u001b[1;33m\u001b[0m\u001b[0m\n",
      "\u001b[1;31mAttributeError\u001b[0m: 'HTMLWriter' object has no attribute '_temp_names'"
     ]
    },
    {
     "data": {
      "text/plain": [
       "<matplotlib.animation.FuncAnimation at 0x236b68238b0>"
      ]
     },
     "execution_count": 18,
     "metadata": {},
     "output_type": "execute_result"
    }
   ],
   "source": [
    "model_new = KMeans(X, 4)\n",
    "fig = plt.figure()\n",
    "ax = plt.axes(xlim=(-4, 4), ylim=(-4, 4))\n",
    "centroids = model_new.initialize_centroids()\n",
    "\n",
    "line1, = ax.plot([], [], 'o')\n",
    "line2, = ax.plot([], [], 'o')\n",
    "\n",
    "def init():\n",
    "    \n",
    "    line1.set_data([], [])\n",
    "    line2.set_data([], [])\n",
    "    return line1,line2\n",
    "\n",
    "def animate(i):\n",
    "    global centroids\n",
    "    closest = model_new.closest_centroid(centroids)\n",
    "    centroids = model_new.move_centroids(centroids)\n",
    "    ax.cla()\n",
    "    ax.scatter(X[:, 0], X[:, 1], c=closest)\n",
    "    ax.scatter(centroids[:, 0], centroids[:, 1],  marker='*', c='r', s=600)\n",
    "    line1.set_data(X[:, 0] , X[:, 1])\n",
    "    line2.set_data(centroids[:, 0] ,centroids[:, 1])\n",
    "    return line1, line2\n",
    "\n",
    "animation.FuncAnimation(fig, animate, init_func=init,\n",
    "                        frames=30, interval=200, blit=True)"
   ]
  },
  {
   "cell_type": "markdown",
   "metadata": {
    "colab_type": "text",
    "id": "t6_BWcM-Pewt"
   },
   "source": [
    "## 6 - Conclusion\n",
    "As we can see, our model performs the task correctly.\n",
    "\n",
    "#### What's next:\n",
    "1. Compare the results you have obtained with the `sklearn.cluster.KMeans` models.\n",
    "3. Try this model in the wild! Select your favorite dataset [here](https://www.kaggle.com/datasets?sortBy=hottest&group=public&page=1&pageSize=20&size=small&filetype=all&license=all&tagids=13303) and play with it."
   ]
  }
 ],
 "metadata": {
  "colab": {
   "collapsed_sections": [],
   "default_view": {},
   "name": "KMeans.ipynb",
   "provenance": [],
   "version": "0.3.2",
   "views": {}
  },
  "kernelspec": {
   "display_name": "Python 3",
   "language": "python",
   "name": "python3"
  },
  "language_info": {
   "codemirror_mode": {
    "name": "ipython",
    "version": 3
   },
   "file_extension": ".py",
   "mimetype": "text/x-python",
   "name": "python",
   "nbconvert_exporter": "python",
   "pygments_lexer": "ipython3",
   "version": "3.8.3"
  }
 },
 "nbformat": 4,
 "nbformat_minor": 1
}
